{
  "nbformat": 4,
  "nbformat_minor": 0,
  "metadata": {
    "colab": {
      "name": "fund_aiml_05v1_lec2_2021.ipynb",
      "provenance": [],
      "authorship_tag": "ABX9TyNPcjVLcubExJ3C+PuaMsl0",
      "include_colab_link": true
    },
    "kernelspec": {
      "name": "python3",
      "display_name": "Python 3"
    },
    "language_info": {
      "name": "python"
    }
  },
  "cells": [
    {
      "cell_type": "markdown",
      "metadata": {
        "id": "view-in-github",
        "colab_type": "text"
      },
      "source": [
        "<a href=\"https://colab.research.google.com/github/dyjdlopez/fund-of-aiml/blob/main/activities/05%20-%20Classification/fund_aiml_05v1_lec2_2021.ipynb\" target=\"_parent\"><img src=\"https://colab.research.google.com/assets/colab-badge.svg\" alt=\"Open In Colab\"/></a>"
      ]
    },
    {
      "cell_type": "markdown",
      "metadata": {
        "id": "GDPzQ-B7jlCr"
      },
      "source": [
        "# Topic 05.2: Perceptrons, Gradient Descent, and Backpropagation\n",
        "$_{\\text{©D.J. Lopez | 2021 | Fundamentals of Machine Learning}}$\n",
        "\n"
      ]
    },
    {
      "cell_type": "markdown",
      "metadata": {
        "id": "0keqpG0ojgp0"
      },
      "source": [
        "### Part 1: Perceptron Algorithm\n",
        "The Perceptron was first conceptualized by Frank Rosenblatt in his paper [The Perceptron: A Probabilistic Model for Information Storage and Organization in the Brain](https://citeseerx.ist.psu.edu/viewdoc/download?doi=10.1.1.335.3398&rep=rep1&type=pdf) in 1958. The perceptron is one of the earliest mathematical conceptualization of a brain neuron. In simplest terms, a perceptron does a weighted sum of all inputs and then performs an activation. In the early implementations of the perceptron the activation used was a step function described as:\n",
        "$$step(z) = \\left\\{\n",
        "  \\begin{array}\\\\\n",
        "    1 \\text{ if } \\ b+ \\sum w_iX_n\\geq 0 \\\\\n",
        "    0 \\text{ otherwise}\n",
        "    \\end{array}\n",
        "\\right.\n",
        "$$\n",
        "![image](https://jontysinai.github.io/assets/article_images/2017-11-11-the-perceptron/bio-vs-MCP.png)"
      ]
    },
    {
      "cell_type": "code",
      "metadata": {
        "id": "qf8u6x3nkUj6"
      },
      "source": [
        "import numpy as np\n",
        "import matplotlib.pyplot as plt\n",
        "import seaborn as sns\n",
        "from sklearn.metrics import confusion_matrix"
      ],
      "execution_count": null,
      "outputs": []
    },
    {
      "cell_type": "code",
      "metadata": {
        "id": "Rho0Jc7jjHiB",
        "colab": {
          "base_uri": "https://localhost:8080/",
          "height": 497
        },
        "outputId": "69b80801-7b05-46e2-a5e3-fb7a3b03d4ad"
      },
      "source": [
        "## Creating a dataset\n",
        "N = 100\n",
        "cov = 0\n",
        "center1 = np.array([0, 1.6]).T\n",
        "cov_mat1 = np.array([\n",
        "                    [1,cov],\n",
        "                    [cov,1]\n",
        "])\n",
        "\n",
        "center2 = np.array([0, -1.6]).T\n",
        "cov_mat2 = np.array([\n",
        "                    [1,cov],\n",
        "                    [cov,1]\n",
        "])\n",
        "\n",
        "np.random.seed(0)\n",
        "X1 = np.array(np.random.multivariate_normal(center1,cov_mat1,int(N/2)))\n",
        "X2 = np.array(np.random.multivariate_normal(center2,cov_mat2,int(N/2)))\n",
        "## We'll declare another gaussian distribution with a different mean\n",
        "\n",
        "X_train = np.concatenate((X1, X2), axis=0)\n",
        "y_train = np.array([np.ones(int(N/2)), np.zeros(int(N-(N/2)))]).reshape((-1,1))\n",
        "\n",
        "plt.figure(figsize=(8,8))\n",
        "plt.scatter(X1[:,0],X1[:,1], c='r', label='1')\n",
        "plt.scatter(X2[:,0],X2[:,1], c='b', label='0')\n",
        "plt.ylabel(\"Some Target\")\n",
        "plt.xlabel(\"Some Feature\")\n",
        "plt.legend()\n",
        "plt.grid()\n",
        "plt.show()"
      ],
      "execution_count": null,
      "outputs": [
        {
          "output_type": "display_data",
          "data": {
            "image/png": "[encoded data removed]",
            "text/plain": [
              "<Figure size 576x576 with 1 Axes>"
            ]
          },
          "metadata": {
            "needs_background": "light"
          }
        }
      ]
    },
    {
      "cell_type": "code",
      "metadata": {
        "id": "d8pZQ4C1eDfv"
      },
      "source": [
        "np.random.seed(0)\n",
        "M = N*0.4\n",
        "X_1_test = np.array(np.random.multivariate_normal(center1,cov_mat1,int(M/2)))\n",
        "X_2_test = np.array(np.random.multivariate_normal(center2,cov_mat2,int(M/2)))\n",
        "\n",
        "X_test = np.concatenate((X_1_test, X_2_test), axis=0)\n",
        "y_test = np.array([np.ones(int(M/2)), np.zeros(int(M-(M/2)))]).reshape((-1,1))"
      ],
      "execution_count": null,
      "outputs": []
    },
    {
      "cell_type": "code",
      "metadata": {
        "colab": {
          "base_uri": "https://localhost:8080/",
          "height": 497
        },
        "id": "6qlPPyJ7qU_j",
        "outputId": "2ed505ad-e0a3-4196-c46c-8401b9dc5579"
      },
      "source": [
        "plt.figure(figsize=(8,8))\n",
        "plt.scatter(X_test[:20,0],X_test[:20,1], c='r', label='1')\n",
        "plt.scatter(X2[20:,0],X2[20:,1], c='b', label='0')\n",
        "plt.ylabel(\"Some Target\")\n",
        "plt.xlabel(\"Some Feature\")\n",
        "plt.legend()\n",
        "plt.grid()\n",
        "plt.show()"
      ],
      "execution_count": null,
      "outputs": [
        {
          "output_type": "display_data",
          "data": {
            "image/png": "[encoded data removed]",
            "text/plain": [
              "<Figure size 576x576 with 1 Axes>"
            ]
          },
          "metadata": {
            "needs_background": "light"
          }
        }
      ]
    },
    {
      "cell_type": "code",
      "metadata": {
        "id": "6XxnCkyej3WT"
      },
      "source": [
        "def step_activation(z):\n",
        "  \"\"\"\n",
        "  Compute the step activation of z\n",
        "\n",
        "  Arguments:\n",
        "  z -- A scalar or numpy array of any size.\n",
        "\n",
        "  Return:\n",
        "  filtered step activations step(z)\n",
        "  \"\"\"\n",
        "  return np.where(z>=0, 1,0)"
      ],
      "execution_count": null,
      "outputs": []
    },
    {
      "cell_type": "code",
      "metadata": {
        "id": "kOIqNkFkj67a"
      },
      "source": [
        "def init_weights(dim):\n",
        "  \"\"\"\n",
        "  Does a zero-initialization of the weights and bias\n",
        "\n",
        "  Arguments:\n",
        "  dim -- Desired dimension for the weights.\n",
        "\n",
        "  Return:\n",
        "  w -- initialized weights\n",
        "  b -- initilaized bias\n",
        "  \"\"\"\n",
        "  w = np.zeros(shape=(dim,1))\n",
        "  b = 0\n",
        "  return w, b"
      ],
      "execution_count": null,
      "outputs": []
    },
    {
      "cell_type": "code",
      "metadata": {
        "id": "fElfMzdZj8pV"
      },
      "source": [
        "def sum_err(preds,y):\n",
        "  \"\"\"\n",
        "  Computes the Sum of Squared Errors for a set of predictions\n",
        "  and truth values\n",
        "\n",
        "  Arguments:\n",
        "  preds -- Set of predictions.\n",
        "  y -- Set of truth values\n",
        "\n",
        "  Return:\n",
        "  sse -- Sum of the squared errors\n",
        "  \"\"\"\n",
        "  sse = np.sum(np.square(y-preds))\n",
        "  return sse"
      ],
      "execution_count": null,
      "outputs": []
    },
    {
      "cell_type": "code",
      "metadata": {
        "id": "Q_0BcXuqj_GS"
      },
      "source": [
        "def accuracy(preds, Y):\n",
        "  \"\"\"\n",
        "  Computes the accuracy for a set of predictions\n",
        "  and truth values\n",
        "\n",
        "  Arguments:\n",
        "  preds -- Set of predictions.\n",
        "  y -- Set of truth values\n",
        "\n",
        "  Return:\n",
        "  accuracy -- Computed accuracy\n",
        "  \"\"\"\n",
        "  accuracy = 1-np.mean(np.abs(preds-Y))\n",
        "  return accuracy"
      ],
      "execution_count": null,
      "outputs": []
    },
    {
      "cell_type": "code",
      "metadata": {
        "id": "FVXVGAl6kDgD"
      },
      "source": [
        "def propagate(X,y,w,b):\n",
        "\n",
        "  # Compute for the transformed vector of the \n",
        "  # dataset w.r.t the weights and biases\n",
        "  z = (X@w) + b\n",
        "\n",
        "  # Compute for the step activation\n",
        "  A = step_activation(z) ## aka preds or hypothesis\n",
        "\n",
        "  # Compute for the prediction error\n",
        "  error = A-y\n",
        "  acc = accuracy(y,A)\n",
        "\n",
        "  # Update the weights and biases\n",
        "  # Learning/Update routine\n",
        "  w = np.dot(X.T,error)\n",
        "  b = np.sum(error)\n",
        "\n",
        "  # Compute the cost\n",
        "  cost = sum_err(A,y)\n",
        "\n",
        "  # Store the parameters in a dictionary for tracking\n",
        "  grads = {\"dw\": w,\n",
        "           \"db\": b}\n",
        "  \n",
        "  return grads, cost, acc"
      ],
      "execution_count": null,
      "outputs": []
    },
    {
      "cell_type": "code",
      "metadata": {
        "id": "zPGwNd4AkFVz",
        "colab": {
          "base_uri": "https://localhost:8080/"
        },
        "outputId": "740b9347-8c81-4e46-d5c7-a228e185ec57"
      },
      "source": [
        "w,b = init_weights(X_train.shape[1])\n",
        "propagate(X_train,y_train,w,b)"
      ],
      "execution_count": null,
      "outputs": [
        {
          "output_type": "execute_result",
          "data": {
            "text/plain": [
              "({'db': 50.0, 'dw': array([[ -0.93607635],\n",
              "         [-70.86262658]])}, 50.0, 0.5)"
            ]
          },
          "metadata": {},
          "execution_count": 125
        }
      ]
    },
    {
      "cell_type": "code",
      "metadata": {
        "id": "lAy-JGQnkIA3"
      },
      "source": [
        "def train(w, b, X, y, lr, epochs, early_stopping=True, stop_thresh=0.9):\n",
        "  costs = []\n",
        "  accuracies = []\n",
        "\n",
        "  for i in range(epochs):\n",
        "    # Do a forward propagation to obtain the gradients\n",
        "    grads, cost, accuracy = propagate(X,y,w,b)\n",
        "\n",
        "    # Locally store the gradients    \n",
        "    dw=grads['dw']\n",
        "    db=grads['db']\n",
        "\n",
        "    # Update routine per epoch\n",
        "    w = w - lr*dw\n",
        "    b = b - lr*db\n",
        "\n",
        "    # Store the costs per epoch for logs      \n",
        "    \n",
        "    if i % 1 == 0:\n",
        "      print (f\"Epoch {i}: Loss: {cost} Accuracy: {accuracy}\")\n",
        "      costs.append(cost)\n",
        "      accuracies.append(accuracy)\n",
        "\n",
        "    # Store the learned parameters for logs\n",
        "    params = {\"w\": w,\n",
        "              \"b\": b}\n",
        "    \n",
        "    grads = {\"dw\": dw,\n",
        "             \"db\": db}\n",
        "    if early_stopping and accuracy >= stop_thresh:\n",
        "      print(f\"Target metric met, stopping the training at {i} epoch(s).\\n\")\n",
        "      break\n",
        "\n",
        "  return params, grads, costs"
      ],
      "execution_count": null,
      "outputs": []
    },
    {
      "cell_type": "code",
      "metadata": {
        "id": "kVspdyK0kK87",
        "colab": {
          "base_uri": "https://localhost:8080/"
        },
        "outputId": "4e8e852c-5e10-49f9-8dd8-bb02cab98e58"
      },
      "source": [
        "w,b = init_weights(X_train.shape[1])\n",
        "learning_rate = 0.00001\n",
        "epochs = 100\n",
        "\n",
        "params, grads, costs = train(w, b, X_train, y_train, \n",
        "                             lr=learning_rate, epochs=epochs, \n",
        "                             early_stopping=True, stop_thresh=0.99)\n",
        "\n",
        "print (\"w = \" + str(params[\"w\"]))\n",
        "print (\"b = \" + str(params[\"b\"]))\n",
        "print (\"dw = \" + str(grads[\"dw\"]))\n",
        "print (\"db = \" + str(grads[\"db\"]))"
      ],
      "execution_count": null,
      "outputs": [
        {
          "output_type": "stream",
          "name": "stdout",
          "text": [
            "Epoch 0: Loss: 50.0 Accuracy: 0.5\n",
            "Epoch 1: Loss: 8.0 Accuracy: 0.92\n",
            "Epoch 2: Loss: 7.0 Accuracy: 0.9299999999999999\n",
            "Epoch 3: Loss: 7.0 Accuracy: 0.9299999999999999\n",
            "Epoch 4: Loss: 5.0 Accuracy: 0.95\n",
            "Epoch 5: Loss: 5.0 Accuracy: 0.95\n",
            "Epoch 6: Loss: 7.0 Accuracy: 0.9299999999999999\n",
            "Epoch 7: Loss: 7.0 Accuracy: 0.9299999999999999\n",
            "Epoch 8: Loss: 7.0 Accuracy: 0.9299999999999999\n",
            "Epoch 9: Loss: 7.0 Accuracy: 0.9299999999999999\n",
            "Epoch 10: Loss: 8.0 Accuracy: 0.92\n",
            "Epoch 11: Loss: 7.0 Accuracy: 0.9299999999999999\n",
            "Epoch 12: Loss: 8.0 Accuracy: 0.92\n",
            "Epoch 13: Loss: 7.0 Accuracy: 0.9299999999999999\n",
            "Epoch 14: Loss: 8.0 Accuracy: 0.92\n",
            "Epoch 15: Loss: 5.0 Accuracy: 0.95\n",
            "Epoch 16: Loss: 8.0 Accuracy: 0.92\n",
            "Epoch 17: Loss: 8.0 Accuracy: 0.92\n",
            "Epoch 18: Loss: 8.0 Accuracy: 0.92\n",
            "Epoch 19: Loss: 9.0 Accuracy: 0.91\n",
            "Epoch 20: Loss: 8.0 Accuracy: 0.92\n",
            "Epoch 21: Loss: 5.0 Accuracy: 0.95\n",
            "Epoch 22: Loss: 8.0 Accuracy: 0.92\n",
            "Epoch 23: Loss: 8.0 Accuracy: 0.92\n",
            "Epoch 24: Loss: 9.0 Accuracy: 0.91\n",
            "Epoch 25: Loss: 8.0 Accuracy: 0.92\n",
            "Epoch 26: Loss: 8.0 Accuracy: 0.92\n",
            "Epoch 27: Loss: 7.0 Accuracy: 0.9299999999999999\n",
            "Epoch 28: Loss: 8.0 Accuracy: 0.92\n",
            "Epoch 29: Loss: 8.0 Accuracy: 0.92\n",
            "Epoch 30: Loss: 8.0 Accuracy: 0.92\n",
            "Epoch 31: Loss: 7.0 Accuracy: 0.9299999999999999\n",
            "Epoch 32: Loss: 8.0 Accuracy: 0.92\n",
            "Epoch 33: Loss: 8.0 Accuracy: 0.92\n",
            "Epoch 34: Loss: 8.0 Accuracy: 0.92\n",
            "Epoch 35: Loss: 7.0 Accuracy: 0.9299999999999999\n",
            "Epoch 36: Loss: 8.0 Accuracy: 0.92\n",
            "Epoch 37: Loss: 8.0 Accuracy: 0.92\n",
            "Epoch 38: Loss: 8.0 Accuracy: 0.92\n",
            "Epoch 39: Loss: 8.0 Accuracy: 0.92\n",
            "Epoch 40: Loss: 7.0 Accuracy: 0.9299999999999999\n",
            "Epoch 41: Loss: 9.0 Accuracy: 0.91\n",
            "Epoch 42: Loss: 8.0 Accuracy: 0.92\n",
            "Epoch 43: Loss: 5.0 Accuracy: 0.95\n",
            "Epoch 44: Loss: 7.0 Accuracy: 0.9299999999999999\n",
            "Epoch 45: Loss: 5.0 Accuracy: 0.95\n",
            "Epoch 46: Loss: 8.0 Accuracy: 0.92\n",
            "Epoch 47: Loss: 5.0 Accuracy: 0.95\n",
            "Epoch 48: Loss: 7.0 Accuracy: 0.9299999999999999\n",
            "Epoch 49: Loss: 5.0 Accuracy: 0.95\n",
            "Epoch 50: Loss: 7.0 Accuracy: 0.9299999999999999\n",
            "Epoch 51: Loss: 4.0 Accuracy: 0.96\n",
            "Epoch 52: Loss: 7.0 Accuracy: 0.9299999999999999\n",
            "Epoch 53: Loss: 7.0 Accuracy: 0.9299999999999999\n",
            "Epoch 54: Loss: 8.0 Accuracy: 0.92\n",
            "Epoch 55: Loss: 6.0 Accuracy: 0.94\n",
            "Epoch 56: Loss: 9.0 Accuracy: 0.91\n",
            "Epoch 57: Loss: 8.0 Accuracy: 0.92\n",
            "Epoch 58: Loss: 11.0 Accuracy: 0.89\n",
            "Epoch 59: Loss: 8.0 Accuracy: 0.92\n",
            "Epoch 60: Loss: 11.0 Accuracy: 0.89\n",
            "Epoch 61: Loss: 7.0 Accuracy: 0.9299999999999999\n",
            "Epoch 62: Loss: 10.0 Accuracy: 0.9\n",
            "Epoch 63: Loss: 6.0 Accuracy: 0.94\n",
            "Epoch 64: Loss: 10.0 Accuracy: 0.9\n",
            "Epoch 65: Loss: 5.0 Accuracy: 0.95\n",
            "Epoch 66: Loss: 11.0 Accuracy: 0.89\n",
            "Epoch 67: Loss: 7.0 Accuracy: 0.9299999999999999\n",
            "Epoch 68: Loss: 11.0 Accuracy: 0.89\n",
            "Epoch 69: Loss: 5.0 Accuracy: 0.95\n",
            "Epoch 70: Loss: 11.0 Accuracy: 0.89\n",
            "Epoch 71: Loss: 8.0 Accuracy: 0.92\n",
            "Epoch 72: Loss: 10.0 Accuracy: 0.9\n",
            "Epoch 73: Loss: 7.0 Accuracy: 0.9299999999999999\n",
            "Epoch 74: Loss: 11.0 Accuracy: 0.89\n",
            "Epoch 75: Loss: 6.0 Accuracy: 0.94\n",
            "Epoch 76: Loss: 11.0 Accuracy: 0.89\n",
            "Epoch 77: Loss: 9.0 Accuracy: 0.91\n",
            "Epoch 78: Loss: 10.0 Accuracy: 0.9\n",
            "Epoch 79: Loss: 7.0 Accuracy: 0.9299999999999999\n",
            "Epoch 80: Loss: 11.0 Accuracy: 0.89\n",
            "Epoch 81: Loss: 8.0 Accuracy: 0.92\n",
            "Epoch 82: Loss: 10.0 Accuracy: 0.9\n",
            "Epoch 83: Loss: 6.0 Accuracy: 0.94\n",
            "Epoch 84: Loss: 9.0 Accuracy: 0.91\n",
            "Epoch 85: Loss: 7.0 Accuracy: 0.9299999999999999\n",
            "Epoch 86: Loss: 11.0 Accuracy: 0.89\n",
            "Epoch 87: Loss: 7.0 Accuracy: 0.9299999999999999\n",
            "Epoch 88: Loss: 10.0 Accuracy: 0.9\n",
            "Epoch 89: Loss: 6.0 Accuracy: 0.94\n",
            "Epoch 90: Loss: 9.0 Accuracy: 0.91\n",
            "Epoch 91: Loss: 8.0 Accuracy: 0.92\n",
            "Epoch 92: Loss: 11.0 Accuracy: 0.89\n",
            "Epoch 93: Loss: 5.0 Accuracy: 0.95\n",
            "Epoch 94: Loss: 11.0 Accuracy: 0.89\n",
            "Epoch 95: Loss: 8.0 Accuracy: 0.92\n",
            "Epoch 96: Loss: 10.0 Accuracy: 0.9\n",
            "Epoch 97: Loss: 6.0 Accuracy: 0.94\n",
            "Epoch 98: Loss: 9.0 Accuracy: 0.91\n",
            "Epoch 99: Loss: 8.0 Accuracy: 0.92\n",
            "w = [[-5.20285057e-05]\n",
            " [ 9.75126641e-05]]\n",
            "b = -1.0000000000000006e-05\n",
            "dw = [[ 9.26395044]\n",
            " [-1.19450489]]\n",
            "db = -2.0\n"
          ]
        }
      ]
    },
    {
      "cell_type": "code",
      "metadata": {
        "id": "PFrVtpYRkNOh"
      },
      "source": [
        "def predict(X, weights, bias):\n",
        "  z = (X@weights)+bias\n",
        "  return np.where(z>=0, 1,0)\n"
      ],
      "execution_count": null,
      "outputs": []
    },
    {
      "cell_type": "code",
      "metadata": {
        "id": "72ni2U5NkOsb",
        "colab": {
          "base_uri": "https://localhost:8080/"
        },
        "outputId": "9c44487c-9806-431b-ad44-6a347f1e727c"
      },
      "source": [
        "weights = params[\"w\"]\n",
        "bias = params[\"b\"]\n",
        "preds = predict(X_test,weights,bias)\n",
        "accuracy(y_test, preds)"
      ],
      "execution_count": null,
      "outputs": [
        {
          "output_type": "execute_result",
          "data": {
            "text/plain": [
              "0.9"
            ]
          },
          "metadata": {},
          "execution_count": 129
        }
      ]
    },
    {
      "cell_type": "code",
      "metadata": {
        "id": "GxtYuhOGkRcM",
        "colab": {
          "base_uri": "https://localhost:8080/",
          "height": 279
        },
        "outputId": "3d0b804e-6a1e-4c85-d478-b46318aa15ed"
      },
      "source": [
        "c_matrix = confusion_matrix(y_test, preds)\n",
        "sns.heatmap(c_matrix, annot=True)\n",
        "plt.xlabel(\"Ground Truths\")\n",
        "plt.ylabel(\"Predicted\")\n",
        "plt.show()"
      ],
      "execution_count": null,
      "outputs": [
        {
          "output_type": "display_data",
          "data": {
            "image/png": "[encoded data removed]",
            "text/plain": [
              "<Figure size 432x288 with 2 Axes>"
            ]
          },
          "metadata": {
            "needs_background": "light"
          }
        }
      ]
    },
    {
      "cell_type": "markdown",
      "metadata": {
        "id": "7EWdii5GlDa7"
      },
      "source": [
        "## Part 2: Back-propagation\n",
        "Although the Perceptron with the step activation produces good results producing a linear classifier, it lacks another fundamental technique for being a robust neural network model—Backpropagation. Backpropagation is a short form for \"backward propagation of errors.\" It is a method of training artificial neural networks. This method helps to calculate the gradient of a loss function for all the weights in the network. <br>\n",
        "In this section, we will use a sigmoid function as an activation function instead of a step activation. Since backpropagation will not be effective with the step function its gradient (derivative) is zero, and that will not be useful for computing the loss function.<br>\n",
        "<b>Loss Function</b><br>\n",
        "A loss function is the function we want to minimize or maximize is called the objective function or criterion. When we are minimizing it, we may also call it the cost function, loss function, or error function [[1]](https://www.deeplearningbook.org/contents/numerical.html). <br>\n",
        "To save you the time and brainpower, for our example our loss function is:\n",
        "$$J(\\theta)=\\frac{1}{m} \\sum^m_{i}cost(h_{\\theta}(x^{(i)}, y^{(i)}) \\\\\n",
        "\\text{if y = 1} : -\\log{(h_\\theta(x))}\\\\\n",
        "\\text{if y = 0} : -\\log{(1-h_\\theta(x))}\\\\\n",
        "J(\\theta)=-\\frac{1}{m} \\sum^m_{i}{y^{(i)}\\log{(h_\\theta(x))}+(1-y^{(i)})(\\log{(1-h_\\theta(x))}} \\\\\n",
        "J(\\theta)=-\\frac{1}{m} \\sum^m_{i}{Y^T\\log(h)+(1-Y)^T\\log(1-h)}\n",
        "$$"
      ]
    },
    {
      "cell_type": "code",
      "metadata": {
        "id": "mlh2YqwFlNoi"
      },
      "source": [
        "def sigmoid(z):\n",
        "    \"\"\"\n",
        "    Compute the sigmoid of z\n",
        "\n",
        "    Arguments:\n",
        "    z -- A scalar or numpy array of any size.\n",
        "\n",
        "    Return:\n",
        "    s -- sigmoid(z)\n",
        "    \"\"\"\n",
        "    s = 1 / (1 + np.exp(-z))    \n",
        "    return s"
      ],
      "execution_count": null,
      "outputs": []
    },
    {
      "cell_type": "code",
      "metadata": {
        "id": "454Z9kellOtC"
      },
      "source": [
        "def transfer_derivative(d):\n",
        "  return d*(1.0-d)"
      ],
      "execution_count": null,
      "outputs": []
    },
    {
      "cell_type": "code",
      "metadata": {
        "id": "MPQvdRm5lRtz"
      },
      "source": [
        "def propagate(w, b, X, Y):\n",
        "    \"\"\"\n",
        "    Implement the cost function and its gradient for the propagation explained above\n",
        "\n",
        "    Arguments:\n",
        "    w -- weights, a numpy array \n",
        "    b -- bias, a scalar\n",
        "    X -- data of size\n",
        "    Y -- true \"label\" vector \n",
        "\n",
        "    Return:\n",
        "    cost -- negative log-likelihood cost for logistic regression\n",
        "    dw -- gradient of the loss with respect to w, thus same shape as w\n",
        "    db -- gradient of the loss with respect to b, thus same shape as b\n",
        "    \n",
        "    \"\"\"\n",
        "    \n",
        "    m = X.shape[0]\n",
        "    alpha = 10e-8\n",
        "    \n",
        "    # FORWARD PROPAGATION (FROM X TO COST)\n",
        "    z = (X@w)+b\n",
        "    h = sigmoid(z)    # compute activation\n",
        "    J = -1 / m * np.sum(Y * np.log(h+alpha) + (1-Y) * np.log((1-h)+alpha))  # compute cost\n",
        "    \n",
        "    # BACKWARD PROPAGATION (TO FIND GRAD)\n",
        "    error = (h-Y)*transfer_derivative(h) ## dJ/dA * dA/dz = dJ/dz\n",
        "    dw = 1/m * X.T @ error # dJ/dz * dz/dw = dJ/dw\n",
        "    db = 1/m * np.sum(error) # dJ/dz * dz/db = dJ/db\n",
        "\n",
        "    cost = np.squeeze(J)\n",
        "    \n",
        "    grads = {\"dw\": dw,\n",
        "             \"db\": db}\n",
        "    \n",
        "    return grads, cost"
      ],
      "execution_count": null,
      "outputs": []
    },
    {
      "cell_type": "code",
      "metadata": {
        "id": "CZDPeyjrlTfK"
      },
      "source": [
        "def optimize(w, b, X, Y, epochs, lr, print_cost = True):\n",
        "    \"\"\"\n",
        "    This function optimizes w and b by running a gradient descent algorithm\n",
        "    \n",
        "    Arguments:\n",
        "    w -- weights, a numpy array of size\n",
        "    b -- bias, a scalar\n",
        "    X -- data of shape \n",
        "    Y -- true \"label\" vector\n",
        "    epochs -- number of iterations of the optimization loop\n",
        "    lr -- learning rate of the gradient descent update rule\n",
        "    print_cost -- True to print the loss every 100 steps\n",
        "    \n",
        "    Returns:\n",
        "    params -- dictionary containing the weights w and bias b\n",
        "    grads -- dictionary containing the gradients of the weights and bias with respect to the cost function\n",
        "    costs -- list of all the costs computed during the optimization, this will be used to plot the learning curve.\n",
        "    \n",
        "    Tips:\n",
        "    You basically need to write down two steps and iterate through them:\n",
        "        1) Calculate the cost and the gradient for the current parameters. Use propagate().\n",
        "        2) Update the parameters using gradient descent rule for w and b.\n",
        "    \"\"\"\n",
        "    \n",
        "    costs = []\n",
        "    \n",
        "    for i in range(epochs):\n",
        "        \n",
        "        # Cost and gradient calculation \n",
        "        grads, cost = propagate(w, b, X, Y)\n",
        "        \n",
        "        # Retrieve derivatives from grads\n",
        "        dw = grads[\"dw\"]\n",
        "        db = grads[\"db\"]\n",
        "        \n",
        "        # Update the weights\n",
        "        w = w - lr * dw\n",
        "        b = b - lr * db\n",
        "        \n",
        "        # Record the costs\n",
        "        if i % 10 == 0:\n",
        "            costs.append(cost)\n",
        "        \n",
        "        # Print the cost every 10 training iterations\n",
        "        if print_cost and i % 10 == 0:\n",
        "            print (\"Cost after iteration %i: %f\" %(i, cost))\n",
        "    \n",
        "    params = {\"w\": w,\n",
        "              \"b\": b}\n",
        "    \n",
        "    grads = {\"dw\": dw,\n",
        "             \"db\": db}\n",
        "    \n",
        "    return params, grads, costs"
      ],
      "execution_count": null,
      "outputs": []
    },
    {
      "cell_type": "code",
      "metadata": {
        "id": "4o862wW0lV7C",
        "colab": {
          "base_uri": "https://localhost:8080/"
        },
        "outputId": "69eaaf57-dc5d-467d-ca0b-b872b4b2b8c8"
      },
      "source": [
        "w,b = init_weights(X_train.shape[1])\n",
        "learning_rate = 0.6\n",
        "epochs = 100\n",
        "params, grads, costs = optimize(w, b, X_train, y_train, \n",
        "                             lr=learning_rate, epochs=epochs)\n",
        "\n",
        "print (\"w = \" + str(params[\"w\"]))\n",
        "print (\"b = \" + str(params[\"b\"]))\n",
        "print (\"dw = \" + str(grads[\"dw\"]))\n",
        "print (\"db = \" + str(grads[\"db\"]))"
      ],
      "execution_count": null,
      "outputs": [
        {
          "output_type": "stream",
          "name": "stdout",
          "text": [
            "Cost after iteration 0: 0.693147\n",
            "Cost after iteration 10: 0.350665\n",
            "Cost after iteration 20: 0.284379\n",
            "Cost after iteration 30: 0.253283\n",
            "Cost after iteration 40: 0.234337\n",
            "Cost after iteration 50: 0.221268\n",
            "Cost after iteration 60: 0.211570\n",
            "Cost after iteration 70: 0.204015\n",
            "Cost after iteration 80: 0.197924\n",
            "Cost after iteration 90: 0.192885\n",
            "w = [[0.07313867]\n",
            " [1.59136568]]\n",
            "b = -0.20322841769834069\n",
            "dw = [[-0.00085037]\n",
            " [-0.00786011]]\n",
            "db = 0.0023286276028710523\n"
          ]
        }
      ]
    },
    {
      "cell_type": "code",
      "metadata": {
        "id": "0e_Xoi36lYVk"
      },
      "source": [
        "def predict(w, b, X):\n",
        "    '''\n",
        "    Predict whether the label is 0 or 1 using learned logistic regression parameters (w, b)\n",
        "    \n",
        "    Arguments:\n",
        "    w -- weights, a numpy array of size\n",
        "    b -- bias, a scalar\n",
        "    X -- data of size \n",
        "    \n",
        "    Returns:\n",
        "    Y_prediction -- a numpy array (vector) containing all predictions (0/1) for the examples in X\n",
        "    '''\n",
        "    \n",
        "    A = sigmoid((X@w)+b) \n",
        "    Y_prediction = np.where(A>=0.5,1,0)\n",
        "    \n",
        "    return Y_prediction"
      ],
      "execution_count": null,
      "outputs": []
    },
    {
      "cell_type": "code",
      "metadata": {
        "id": "iK3g355TlZvT"
      },
      "source": [
        "def model(X_train, Y_train, X_test, Y_test, num_iterations = 10, learning_rate = 0.5, print_cost = True):\n",
        "    \"\"\"\n",
        "    Builds the logistic regression model by calling the function you've implemented previously\n",
        "    \n",
        "    Arguments:\n",
        "    X_train -- training set represented by a numpy array of shape (num_px * num_px * 3, m_train)\n",
        "    Y_train -- training labels represented by a numpy array (vector) of shape (1, m_train)\n",
        "    X_test -- test set represented by a numpy array of shape (num_px * num_px * 3, m_test)\n",
        "    Y_test -- test labels represented by a numpy array (vector) of shape (1, m_test)\n",
        "    num_iterations -- hyperparameter representing the number of iterations to optimize the parameters\n",
        "    learning_rate -- hyperparameter representing the learning rate used in the update rule of optimize()\n",
        "    print_cost -- Set to true to print the cost every 100 iterations\n",
        "    \n",
        "    Returns:\n",
        "    d -- dictionary containing information about the model.\n",
        "    \"\"\"\n",
        "    \n",
        "    # initialize parameters with zeros\n",
        "    w, b = init_weights(X_train.shape[1])\n",
        "\n",
        "    # Gradient descent \n",
        "    parameters, grads, costs = optimize(w, b, X_train, Y_train, num_iterations, learning_rate, print_cost)\n",
        "    \n",
        "    # Retrieve parameters w and b from dictionary \"parameters\"\n",
        "    w = parameters[\"w\"]\n",
        "    b = parameters[\"b\"]\n",
        "    \n",
        "    Y_prediction_test = predict(w, b, X_test)\n",
        "    Y_prediction_train = predict(w, b, X_train)\n",
        "\n",
        "    # Print train/test Errors\n",
        "    print(\"train accuracy: {} %\".format(100 - np.mean(np.abs(Y_prediction_train - Y_train)) * 100))\n",
        "    print(\"test accuracy: {} %\".format(100 - np.mean(np.abs(Y_prediction_test - Y_test)) * 100))\n",
        "\n",
        "    \n",
        "    d = {\"costs\": costs,\n",
        "         \"Y_prediction_test\": Y_prediction_test, \n",
        "         \"Y_prediction_train\" : Y_prediction_train, \n",
        "         \"w\" : w, \n",
        "         \"b\" : b,\n",
        "         \"learning_rate\" : learning_rate,\n",
        "         \"num_iterations\": num_iterations}\n",
        "    \n",
        "    return d"
      ],
      "execution_count": null,
      "outputs": []
    },
    {
      "cell_type": "code",
      "metadata": {
        "id": "gjEruD3-lbeC",
        "colab": {
          "base_uri": "https://localhost:8080/"
        },
        "outputId": "e326f305-067f-4d9f-c323-6e17087f04dd"
      },
      "source": [
        "neuron_model = model(X_train, y_train, X_test, y_test, num_iterations=300, learning_rate=1)"
      ],
      "execution_count": null,
      "outputs": [
        {
          "output_type": "stream",
          "name": "stdout",
          "text": [
            "Cost after iteration 0: 0.693147\n",
            "Cost after iteration 10: 0.296963\n",
            "Cost after iteration 20: 0.244484\n",
            "Cost after iteration 30: 0.220274\n",
            "Cost after iteration 40: 0.205638\n",
            "Cost after iteration 50: 0.195606\n",
            "Cost after iteration 60: 0.188204\n",
            "Cost after iteration 70: 0.182471\n",
            "Cost after iteration 80: 0.177872\n",
            "Cost after iteration 90: 0.174085\n",
            "Cost after iteration 100: 0.170904\n",
            "Cost after iteration 110: 0.168187\n",
            "Cost after iteration 120: 0.165835\n",
            "Cost after iteration 130: 0.163777\n",
            "Cost after iteration 140: 0.161958\n",
            "Cost after iteration 150: 0.160337\n",
            "Cost after iteration 160: 0.158883\n",
            "Cost after iteration 170: 0.157571\n",
            "Cost after iteration 180: 0.156379\n",
            "Cost after iteration 190: 0.155292\n",
            "Cost after iteration 200: 0.154296\n",
            "Cost after iteration 210: 0.153379\n",
            "Cost after iteration 220: 0.152533\n",
            "Cost after iteration 230: 0.151750\n",
            "Cost after iteration 240: 0.151022\n",
            "Cost after iteration 250: 0.150343\n",
            "Cost after iteration 260: 0.149710\n",
            "Cost after iteration 270: 0.149117\n",
            "Cost after iteration 280: 0.148561\n",
            "Cost after iteration 290: 0.148038\n",
            "train accuracy: 92.0 %\n",
            "test accuracy: 95.0 %\n"
          ]
        }
      ]
    },
    {
      "cell_type": "code",
      "metadata": {
        "id": "gTlO9VYGldak",
        "colab": {
          "base_uri": "https://localhost:8080/",
          "height": 279
        },
        "outputId": "715c8d3f-4e5c-4ace-e653-539ef603add6"
      },
      "source": [
        "c_matrix = confusion_matrix(y_test, neuron_model['Y_prediction_test'])\n",
        "sns.heatmap(c_matrix, annot=True)\n",
        "plt.xlabel(\"Ground Truths\")\n",
        "plt.ylabel(\"Predicted\")\n",
        "plt.show()"
      ],
      "execution_count": null,
      "outputs": [
        {
          "output_type": "display_data",
          "data": {
            "image/png": "[encoded data removed]",
            "text/plain": [
              "<Figure size 432x288 with 2 Axes>"
            ]
          },
          "metadata": {
            "needs_background": "light"
          }
        }
      ]
    },
    {
      "cell_type": "code",
      "metadata": {
        "id": "619VV-BMlgRq",
        "colab": {
          "base_uri": "https://localhost:8080/"
        },
        "outputId": "7329caf9-c482-40be-c74d-1d6dcff4776b"
      },
      "source": [
        "from sklearn.metrics import f1_score, recall_score, precision_score \n",
        "\n",
        "print(f\"F1 Score: \\t{f1_score(y_test, neuron_model['Y_prediction_test'])}\")\n",
        "print(f\"Recall: \\t{recall_score(y_test, neuron_model['Y_prediction_test'])}\")\n",
        "print(f\"Precision: \\t{precision_score(y_test, neuron_model['Y_prediction_test'])}\")"
      ],
      "execution_count": null,
      "outputs": [
        {
          "output_type": "stream",
          "name": "stdout",
          "text": [
            "F1 Score: \t0.9500000000000001\n",
            "Recall: \t0.95\n",
            "Precision: \t0.95\n"
          ]
        }
      ]
    },
    {
      "cell_type": "code",
      "metadata": {
        "id": "XCEOexJdeoGt"
      },
      "source": [
        "def plot_weights(X,w,b):\n",
        "  plt.figure(figsize=(10,10))\n",
        "  plt.scatter(X[:int(X.shape[0]/2),0], X[:int(X.shape[0]/2),1], \n",
        "              s = 50, color='blue', alpha=0.5, label=1)\n",
        "  plt.scatter(X[int(X.shape[0]/2):,0], X[int(X.shape[0]/2):,1],  \n",
        "              s = 50, color='red', alpha=0.5, label=0)\n",
        "  x_min, x_max = X[:,0].min() - 1, X[:,0].max() + 1\n",
        "  linex = np.linspace(x_min, x_max)\n",
        "  liney = -w[0]/w[1] * linex - b/w[1]\n",
        "  plt.plot(linex, liney, label='decision bounday')\n",
        "  plt.legend()\n",
        "  plt.axhline(color='black')\n",
        "  plt.axvline(color='black')\n",
        "  plt.grid()\n",
        "  plt.show()"
      ],
      "execution_count": null,
      "outputs": []
    },
    {
      "cell_type": "code",
      "metadata": {
        "id": "VmXm7uY2liQ6",
        "colab": {
          "base_uri": "https://localhost:8080/",
          "height": 592
        },
        "outputId": "90755d98-3b35-4a3c-85ac-5256d0e9e963"
      },
      "source": [
        "plot_weights(X_test,neuron_model['w'],neuron_model['b'])"
      ],
      "execution_count": null,
      "outputs": [
        {
          "output_type": "display_data",
          "data": {
            "image/png": "[encoded data removed]",
            "text/plain": [
              "<Figure size 720x720 with 1 Axes>"
            ]
          },
          "metadata": {
            "needs_background": "light"
          }
        }
      ]
    },
    {
      "cell_type": "markdown",
      "metadata": {
        "id": "c6PM0SLUkk4q"
      },
      "source": [
        "## Laboratory Activity\n",
        "1. For the laboratory activity, obtain a dataset of your liking from a data source. Explain the purpose of the dataset and mention any publication if it is obtained from the source. Provide a needs statement and significance for the dataset.\n",
        "\n",
        "2. Identify an algorithm or method in performing a single or multiple variable classification using the Perceptron alogrithm. \n",
        "\n",
        "3. You must re-create your Perceptron algorithm with Gradient Descent and Backpropagation using your own code in a separate Google Colab. However, you are required to observe the following:\n",
        "\n",
        ">* Enforce object-oriented programming by implementing at least two of the pillars of OOP in the entirety of the solution.\n",
        "* Dedicated functions for training, predicting, and evaluating the solution.\n",
        "* A DataFrame of the metrics of the solution\n",
        "* A visualization of the solution’s results.\n"
      ]
    },
    {
      "cell_type": "code",
      "metadata": {
        "id": "CezQRonj2djD"
      },
      "source": [
        ""
      ],
      "execution_count": null,
      "outputs": []
    }
  ]
}