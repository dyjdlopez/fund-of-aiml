{
  "nbformat": 4,
  "nbformat_minor": 0,
  "metadata": {
    "colab": {
      "name": "fund_aiml_04v1_2021.ipynb",
      "provenance": [],
      "authorship_tag": "ABX9TyNfvuFUkGY//rKWNr8/XgOL",
      "include_colab_link": true
    },
    "kernelspec": {
      "name": "python3",
      "display_name": "Python 3"
    },
    "language_info": {
      "name": "python"
    }
  },
  "cells": [
    {
      "cell_type": "markdown",
      "metadata": {
        "id": "view-in-github",
        "colab_type": "text"
      },
      "source": [
        "<a href=\"https://colab.research.google.com/github/dyjdlopez/fund-of-aiml/blob/main/activities/04%20-%20Regression/fund_aiml_04v1_2021.ipynb\" target=\"_parent\"><img src=\"https://colab.research.google.com/assets/colab-badge.svg\" alt=\"Open In Colab\"/></a>"
      ]
    },
    {
      "cell_type": "markdown",
      "metadata": {
        "id": "M15k8ZhQPlDx"
      },
      "source": [
        "# Topic 04: Regression\n",
        "$_{\\text{©D.J. Lopez | 2021 | Fudamentals of Machine Learning}}$\n",
        "\n",
        "Now we are starting with the core machine learning topics. We will first try be acquainted with supervised learning specifically with statistical learning. In this notebook, we will be discussing the most fundamental algorithm in Data Science and Artificial Intelligence — Regression. Specifically we will cover the following topics:\n",
        "* Linear Regression\n",
        "* Least Squares\n",
        "* Ridge Regression\n"
      ]
    },
    {
      "cell_type": "markdown",
      "metadata": {
        "id": "BsJ2SocbUg1Z"
      },
      "source": [
        "## 4.1 Correlation\n",
        "Before dwelling into regression we must first lay the difference between correlation and causation. Regression specifically talks about the causality or the the cause and effect relationship of variables. Whereas correlation talks about how associated variables are.\n",
        "\n",
        "![img](https://external-content.duckduckgo.com/iu/?u=https%3A%2F%2Fd35fo82fjcw0y8.cloudfront.net%2F2018%2F07%2F05092148%2Fcorrelation-vs-causation-phone-RAM1-1024x574.png&f=1&nofb=1)\n",
        "\n",
        "In this example we can see a distinction from correlation and causation. There will be an association with messages failing to send and the freezing of your phone. You could say something:\n",
        "\n",
        "* A: \"I can't send messages whenever my phone freezes. and conversely:\n",
        "\n",
        "* B: \"My phone froze so I can't send messages.\". \n",
        "\n",
        "A and B still make sense even if we switch up the logic. The statements could be symmetric! But if you try to put into a condition statement or implication it doesn't give much meaning. For example we could say: \n",
        "\n",
        "* C: \"If my phone freezes I can't send messages.\" and\n",
        "\n",
        "* D: \"If I can't send messages, then my phone froze\".\n",
        "\n",
        "Now the two statements does not have same meaning. This is now a perspective of causality. One factor affecting the other. Now not all variables causes the other to happen. There would be times that there is an indirect relationship, and a hidden variable establishes the causality, we call this a **confounding variable**.\n",
        "\n"
      ]
    },
    {
      "cell_type": "markdown",
      "metadata": {
        "id": "FDwPfqBAXoix"
      },
      "source": [
        "### 4.1.1 Covariance\n",
        "\n",
        "Now let's acquainted with another statistic called covariance. The covariance tells us the relationship between variables in datasets. A positive covariance indicates that the varaibles are moving along the same direction or they are directly proportional while negative covariances tell us that these variables have inverse relationships. We can compute the covariance as:\n",
        "\n",
        "$$\\text{Cov}(X,Y) = \\frac{1}{N}\\sum^N_{i=0}(x_i-\\bar{x})(y_i-\\bar{y})\\\\_{\\text{Eq. 4.1}}$$"
      ]
    },
    {
      "cell_type": "code",
      "metadata": {
        "id": "-wrnPm8hph9k"
      },
      "source": [
        "import numpy as np\n",
        "import matplotlib.pyplot as plt\n",
        "import pandas as pd"
      ],
      "execution_count": null,
      "outputs": []
    },
    {
      "cell_type": "code",
      "metadata": {
        "colab": {
          "base_uri": "https://localhost:8080/",
          "height": 323
        },
        "id": "VDZ8_GXrXoXc",
        "outputId": "b654eed7-52b3-40fa-d10f-75576efaa6ca"
      },
      "source": [
        "'''\n",
        "Let's create dummy data showing positive and negative correlations\n",
        "'''\n",
        "def create_corr_data(n,is_neg=False):\n",
        "  inv = -1 if is_neg else 1\n",
        "  X = np.arange(0,n,1,dtype=np.float64) ## features\n",
        "  m = inv*np.random.uniform(0.1,0.3,(n,)) ## weights\n",
        "  b = np.random.uniform(8,10,(n,)) ## biases\n",
        "  y = m*X+b  ## targets\n",
        "  return X,y,m,b\n",
        "\n",
        "n=50\n",
        "X,y,_,_ = create_corr_data(n,is_neg=True)\n",
        "\n",
        "plt.figure(figsize=(5,5))\n",
        "plt.grid()\n",
        "plt.scatter(X,y)\n",
        "plt.show()"
      ],
      "execution_count": null,
      "outputs": [
        {
          "output_type": "display_data",
          "data": {
            "image/png": "[encoded data removed]",
            "text/plain": [
              "<Figure size 360x360 with 1 Axes>"
            ]
          },
          "metadata": {
            "needs_background": "light"
          }
        }
      ]
    },
    {
      "cell_type": "code",
      "metadata": {
        "colab": {
          "base_uri": "https://localhost:8080/",
          "height": 338
        },
        "id": "vT7pRMLycr7b",
        "outputId": "74857669-5b16-4196-a9d6-6251ee4d45f8"
      },
      "source": [
        "## Coding covariances\n",
        "\n",
        "### Prepare the dataset\n",
        "n=50\n",
        "X,y,_,_ = create_corr_data(n,is_neg=False)\n",
        "## take the means of X and Y\n",
        "x_bar = X.mean()\n",
        "y_bar = y.mean()\n",
        "\n",
        "## get the difference for each data point from their means\n",
        "ssr_x = X-x_bar\n",
        "ssr_y = y-y_bar\n",
        "\n",
        "## compute for the covariance by Eq. 4.1\n",
        "cov = np.mean(ssr_x*ssr_y)\n",
        "\n",
        "plt.figure(figsize=(5,5))\n",
        "plt.grid()\n",
        "plt.scatter(X,y)\n",
        "plt.show()\n",
        "print(f'Covariance is: {cov}')\n",
        "\n",
        "## Try to create a cov function that will dynamically ask users for two datasets"
      ],
      "execution_count": null,
      "outputs": [
        {
          "output_type": "display_data",
          "data": {
            "image/png": "[encoded data removed]",
            "text/plain": [
              "<Figure size 360x360 with 1 Axes>"
            ]
          },
          "metadata": {
            "needs_background": "light"
          }
        },
        {
          "output_type": "stream",
          "name": "stdout",
          "text": [
            "Covariance is: 39.9966525980277\n"
          ]
        }
      ]
    },
    {
      "cell_type": "markdown",
      "metadata": {
        "id": "Ey_h3cbjidZT"
      },
      "source": [
        "#### Variance-Covariance Matrix\n",
        "\n",
        "Another useful matrix in statistics is the Variance-covariance matrix. This matrix shows the dispersion of each variable. It is easier to remember the format of the matrix as:\n",
        "$$\\begin{bmatrix} \\text{Cov}(X,X) & \\text{Cov}(X,y) \\\\\n",
        "\\text{Cov}(y,X) & \\text{Cov}(y,y) \\end{bmatrix}$$\n",
        "\n",
        "For brevity it can be formally expressed as:\n",
        "$$\\begin{bmatrix} \\sigma^2_X & \\text{Cov}(X,y) \\\\\n",
        "\\text{Cov}(y,X) & \\sigma^2_y\\end{bmatrix}$$"
      ]
    },
    {
      "cell_type": "code",
      "metadata": {
        "colab": {
          "base_uri": "https://localhost:8080/"
        },
        "id": "HhOmrqLjhrX7",
        "outputId": "be2bbae7-3fdc-4976-8372-508551318724"
      },
      "source": [
        "## To get the covairance matrix we use np.cov\n",
        "cov_mat = np.cov(X,y, bias=True) ## we tick the bias since we used a bias term\n",
        "\n",
        "## We can then take cov(x,y) at the (0,1) position of a covariance matrix\n",
        "cov_mat[0,1]"
      ],
      "execution_count": null,
      "outputs": [
        {
          "output_type": "execute_result",
          "data": {
            "text/plain": [
              "39.9966525980277"
            ]
          },
          "metadata": {},
          "execution_count": 4
        }
      ]
    },
    {
      "cell_type": "markdown",
      "metadata": {
        "id": "WTOeq2kwX35Z"
      },
      "source": [
        "### 4.1.2 Pearson Correlation\n",
        "Another measure of relationship of datasets is the Pearson Correlation Coefficient or Pearson's R. Pearson's R is specifically a measure of linear correlation between data. It can be interpreted as the ratio between the covariances of the two variables and the product of their standard deviations.\n",
        "$$r_{X,y} = \\frac{\\text{Cov(X,y)}}{\\sigma_X \\sigma_y} \\\\_{\\text{Eq. 4.2}}$$"
      ]
    },
    {
      "cell_type": "code",
      "metadata": {
        "colab": {
          "base_uri": "https://localhost:8080/"
        },
        "id": "5MV3YbJyhdMD",
        "outputId": "8bcead10-dfdd-4281-8606-0f20b2a3508a"
      },
      "source": [
        "### Obtain a dataset\n",
        "n=100\n",
        "X,y,_,_ = create_corr_data(n,is_neg=False)\n",
        "\n",
        "## Compute for cov(x,y)\n",
        "cov_xy = np.cov(X,y, bias=True)[0,1]\n",
        "\n",
        "## Get the st.dev of X and y\n",
        "std_X = np.std(X)\n",
        "std_y = np.std(y)\n",
        "\n",
        "## Compute for Pearson's R\n",
        "rho = cov_xy / (std_X*std_y)\n",
        "rho"
      ],
      "execution_count": null,
      "outputs": [
        {
          "output_type": "execute_result",
          "data": {
            "text/plain": [
              "0.852499085689673"
            ]
          },
          "metadata": {},
          "execution_count": 5
        }
      ]
    },
    {
      "cell_type": "markdown",
      "metadata": {
        "id": "Rl_GtK2bmuzI"
      },
      "source": [
        "Now you might wonder if you would use `np.corrcoeff()` it will be a different value. This is because we are using the general  form of Pearson's R for population. NumPy uses are more stable and more adaptable for samples. We will not cover it in this notebook but you if you want to know more you can read futher [here](http://statisticslectures.com/topics/pearsonr/).\n",
        "\n",
        "$$\\omega_1 = r\\frac{\\sigma_y}{\\sigma_x}=\\frac{\\bar{y}*\\sum(x_i^2)-\\bar{x}\\sum(x_i*y_i)}{\\sum(x^2_i-n\\bar{x}^2)}\\\\ _{\\text{(Eq. 4.2.1)}}$$\n",
        "$$\\omega_0 =\\bar{y}-\\omega_1\\bar{x}= \\frac{\\sum(x_i*y_i)-\\bar{x}\\sum(y_i)}{\\sum(x^2_i-n\\bar{x}^2)}\\\\ _{\\text{(Eq. 4.2.2)}}$$\n",
        "\n",
        "Whereas $r$ is the Pearson correlation solved as:\n",
        "$$r = \\frac{\\sum((x-\\bar{x})(y-\\bar{y}))}{\\sqrt{\\sum(x-\\bar{x})\\sum(y-\\bar{y})}}\\\\ _{\\text{(Eq. 4.2.3)}}$$"
      ]
    },
    {
      "cell_type": "code",
      "metadata": {
        "colab": {
          "base_uri": "https://localhost:8080/"
        },
        "id": "EFpT_POmleB7",
        "outputId": "c490db72-a9b5-4510-9d17-2b728ba1266b"
      },
      "source": [
        "np.corrcoef(X,y)"
      ],
      "execution_count": null,
      "outputs": [
        {
          "output_type": "execute_result",
          "data": {
            "text/plain": [
              "array([[1.        , 0.85249909],\n",
              "       [0.85249909, 1.        ]])"
            ]
          },
          "metadata": {},
          "execution_count": 6
        }
      ]
    },
    {
      "cell_type": "markdown",
      "metadata": {
        "id": "w-edqPInQngp"
      },
      "source": [
        "## 4.2 Linear Regression\n",
        "As the name suggests, linear regression tries to find the best fit straight line to a given dataset. This algorithm is one of the simplest yet most important alogorithm in regression since it is the foundation of many more complex regression techniques.\n",
        "\n",
        "The goal of this algorithm is finding a linear equation that would best describe a set of data. The equation to be used in finding that linear equation is function is given as:\n",
        "$$y = \\omega_0 + \\omega_1 X \\\\ _{\\text{Eq. 4.3}}$$\n",
        "\n",
        "Whereas $X$ is the dataset while $y$ is the corresponding values for each datapoint in $X$. The variable $\\omega$ is called the weight of the dataset consiting of $\\omega_0$ and $\\omega_1$. In other literature, $\\omega_0$ is called the bias term sometimes written as $b$. The following equations are used to solve for $\\omega_0$ and $\\omega_1$:\n",
        "$$\\omega_1 = r\\frac{\\sigma_y}{\\sigma_x}\\\\ _{\\text{Eq. 4.3.1}}$$\n",
        "$$\\omega_0 =\\bar{y}-\\omega_1\\bar{x}\\\\ _{\\text{Eq. 4.3.2}}$$"
      ]
    },
    {
      "cell_type": "code",
      "metadata": {
        "colab": {
          "base_uri": "https://localhost:8080/"
        },
        "id": "YGtgNR3CPZrW",
        "outputId": "fc3341a5-1d9a-4784-b876-f5d8d08fb158"
      },
      "source": [
        "## Create a dataset\n",
        "n=10\n",
        "X,y,m,b = create_corr_data(n,is_neg=False)\n",
        "w1_th = m.mean()\n",
        "w0_th = b.mean()\n",
        "## Compute for the std.dev of X and y\n",
        "std_X, std_y = np.std(X), np.std(y)\n",
        "\n",
        "## Compute for Pearson's R\n",
        "rho = np.corrcoef(X,y)[0,1]\n",
        "\n",
        "## Compute for the weights of the bias term\n",
        "w1 = rho*(std_y/std_X)\n",
        "\n",
        "## Compute for the weights of the feature\n",
        "w0 = y.mean()-w1*X.mean()\n",
        "\n",
        "print(f\"Computed w0 is {w0}, theoretical @ {w0_th}\")\n",
        "print(f\"Computed w1 is {w1}, theoretical @ {w1_th}\")\n",
        "print(f\"Equation: y = {w1} X + {w0}\")"
      ],
      "execution_count": null,
      "outputs": [
        {
          "output_type": "stream",
          "name": "stdout",
          "text": [
            "Computed w0 is 8.576295742767297, theoretical @ 8.959512144212075\n",
            "Computed w1 is 0.28178068039294346, theoretical @ 0.2015073951953373\n",
            "Equation: y = 0.28178068039294346 X + 8.576295742767297\n"
          ]
        }
      ]
    },
    {
      "cell_type": "code",
      "metadata": {
        "id": "H1rY9VD-sjLe"
      },
      "source": [
        "from sklearn.linear_model import LinearRegression"
      ],
      "execution_count": null,
      "outputs": []
    },
    {
      "cell_type": "code",
      "metadata": {
        "colab": {
          "base_uri": "https://localhost:8080/"
        },
        "id": "3DgG7g_bswg0",
        "outputId": "fc9e4bc8-b7f9-4619-83e1-e128aac18fc1"
      },
      "source": [
        "model = LinearRegression()\n",
        "model.fit(X.reshape(-1,1),y.reshape(-1,1))\n",
        "print(f\"Weight of the feature is {model.coef_[0]}\")\n",
        "print(f\"Bias of the model is {model.intercept_}\")\n",
        "print(f\"Equation: y = {model.coef_[0]} X + {model.intercept_}\")"
      ],
      "execution_count": null,
      "outputs": [
        {
          "output_type": "stream",
          "name": "stdout",
          "text": [
            "Weight of the feature is [0.28178068]\n",
            "Bias of the model is [8.57629574]\n",
            "Equation: y = [0.28178068] X + [8.57629574]\n"
          ]
        }
      ]
    },
    {
      "cell_type": "markdown",
      "metadata": {
        "id": "NigYFzkv8kxx"
      },
      "source": [
        "### Metrics\n",
        "Like any machine learning models we must determine their level of acceptance through measurements. The succeeding sections will cover on how to determine the error and accuracy of regression models"
      ]
    },
    {
      "cell_type": "markdown",
      "metadata": {
        "id": "5FXcYTDk8qrS"
      },
      "source": [
        "#### **Measures of Error**\n",
        "Error or losses are computed to determine the robustness of a model to certain dataset. There are several ways to compute the error some of them are:\n",
        "* Sum of Squares Total\n",
        "* Sum of Squares Regression\n",
        "* Sum of Squares Error\n",
        "* Mean Squared Error\n",
        "* Mean Absolute Error\n",
        "* Mean Abosulute Percentage Error"
      ]
    },
    {
      "cell_type": "markdown",
      "metadata": {
        "id": "6i7NHjfE-TqC"
      },
      "source": [
        "##### *Sum of Squares Total*\n",
        "The Sum of Squares Total or SST is a measure of the variability of dataset it is computed by:\n",
        "$$SST = \\sum_{i=0}^n(y_i-\\bar{y})^2 \\\\_\\text{Eq.4.3.3}$$"
      ]
    },
    {
      "cell_type": "code",
      "metadata": {
        "id": "fO6hdbAO-TKD"
      },
      "source": [
        "def SST(y):\n",
        "  return np.sum(np.square(y-y.mean()))"
      ],
      "execution_count": null,
      "outputs": []
    },
    {
      "cell_type": "markdown",
      "metadata": {
        "id": "oeODV2fa_3uJ"
      },
      "source": [
        "##### *Sum of Squares Regression*\n",
        "The Sum of Squares Regression or SSR is a measure of the variability of the model it is computed by:\n",
        "$$SSR = \\sum_{i=0}^n(\\hat{y_i}-\\bar{y})^2 \\\\_\\text{Eq.4.3.4}$$"
      ]
    },
    {
      "cell_type": "markdown",
      "metadata": {
        "id": "VC9goqdkAUs5"
      },
      "source": [
        "##### *Sum of Squares Regression*\n",
        "The Sum of Squares Regression or SSR is a measure of the variability of the model with respect to the residuals or its deviation from the ground truths, it is computed by:\n",
        "$$SSR = \\sum_{i=0}^n(\\hat{y_i}-y_i)^2 \\\\_\\text{Eq.4.3.5}$$"
      ]
    },
    {
      "cell_type": "markdown",
      "metadata": {
        "id": "9XGq7UTpBRgR"
      },
      "source": [
        "##### *Mean of Squared Error*\n",
        "The Mean Squared Error or MSE the name suggests it is the mean of the squared errors or SSE. It is the average error of a model. It is computed as:\n",
        "$$MSE = \\frac{1}{n}\\sum_{i=0}^n(\\hat{y_i}-y_i)^2 \\\\_\\text{Eq.4.3.6}$$"
      ]
    },
    {
      "cell_type": "markdown",
      "metadata": {
        "id": "y8MhMECmB3s5"
      },
      "source": [
        "##### *Mean of Absolute Error*\n",
        "The Mean Absolute Error or MAE, is another error measurement between the model and the ground truths but uses the Manhattan distance instead of the Euclidean distance from SSE.\n",
        "$$MAE = \\frac{1}{n}\\sum_{i=0}^n|\\hat{y_i}-y_i| \\\\_\\text{Eq.4.3.7}$$"
      ]
    },
    {
      "cell_type": "markdown",
      "metadata": {
        "id": "wtxZTA_HCk8J"
      },
      "source": [
        "##### *Mean of Absolute Percentage Error*\n",
        "The Mean Absolute Percentage Error or MAPE, is another error measurement derived from MAE but this time the error normalized. It is computed as:\n",
        "$$MAE = \\frac{100\\%}{n}\\sum_{i=0}^n|\\frac{\\hat{y_i}-y_i}{y_i}| \\\\_\\text{Eq.4.3.8}$$"
      ]
    },
    {
      "cell_type": "markdown",
      "metadata": {
        "id": "HY_cEapgDR3a"
      },
      "source": [
        "##### *Root Mean Squared Error*\n",
        "The Root Mean Squared Error or RMSE, is the root of the RMSE which brings it back to its actual unit. It is computed as:\n",
        "$$RMSE = \\sqrt{\\frac{1}{n}\\sum_{i=0}^n(\\hat{y_i}-y_i)^2} \\\\_\\text{Eq.4.3.9}$$"
      ]
    },
    {
      "cell_type": "markdown",
      "metadata": {
        "id": "lr88swia8uQR"
      },
      "source": [
        "#### Measures Accuracy\n",
        "We measure the accuracy of the regression through its explainability. We measure it through the R-squared or the Adjusted R-squared."
      ]
    },
    {
      "cell_type": "markdown",
      "metadata": {
        "id": "928QePzBD-GC"
      },
      "source": [
        "#### *R-squared*\n",
        "The R-squared is a statistical measurement also known as the coefficient of determination wherein it shows the explanatory power of the variables used in the model. It is computed by:\n",
        "\n",
        "$$R^2 = 1 - \\frac{SSE}{SST}\\\\_\\text{Eq.4.3.10}$$\n"
      ]
    },
    {
      "cell_type": "markdown",
      "metadata": {
        "id": "LDscohAmFr75"
      },
      "source": [
        "#### *Adjusted R-squared*\n",
        "The Adjusted R-squared is another statistical measurement for detemrinign the explanatory power of a model. Unlike, R-squared it is adjusted accordingly to the total datapoints and the features involved in the computation. It is computed by:\n",
        "\n",
        "$$Adj. R^2 = 1 - \\frac{SSE}{SST}\\cdot \\frac{n-1}{n-k-1} = 1 - \\frac{(1-R^2)(n-1)}{n-k-1}\\\\_\\text{Eq.4.3.10}$$\n",
        "\n",
        "Whereas $n$ is the total number of datapoints in the dataset and $k$ is the total number of features to be used in the regression."
      ]
    },
    {
      "cell_type": "markdown",
      "metadata": {
        "id": "Ic07c675j3nr"
      },
      "source": [
        "## 4.3 Least Squares\n",
        "The least squares method is an optimization alogrithm in finding the best fit line for a given dataset. Just like with any numerical technique it utilizes iterations to mimimize the error.\n"
      ]
    },
    {
      "cell_type": "markdown",
      "metadata": {
        "id": "uCWxTwZRoliq"
      },
      "source": [
        "### 4.3.1 Iteration Method\n",
        "The main idea of the iteration method is to iteratively fit a line to the dataset. We tend to guess iteratively whether the line we are fitting is right. With this we can call the line the we are going to fit as the hypothesis or $h_\\theta$ we can then compute the $h_\\theta$ for this linear regression problem as:\n",
        "$$h_\\theta = \\theta X+b \\\\_\\text{Eq.4.4.1}$$\n",
        "Whereas $X$ is the feature vector, $b$ is the bias vector, and $\\theta$ is the weight vector  of the features. We then determine whether our hypothesis is correct by determining its error. Its error is determined by the Sum of Squared Error or SSE. We compute the SSE as the sum of the distances of each hypothesis $h_\\theta$ to the target $y$. We denote the SSE as the loss function of this optimization problem, we denote it as $J(\\theta)$.\n",
        "$$J(\\theta) =  \\sum(h_\\theta - y)^2\\\\_\\text{Eq.4.4.2}$$\n",
        "We then delare the optimization goal for this problem as to minimize the loss function:\n",
        "$$\\min(J)\\\\_\\text{Eq.4.4.3}$$"
      ]
    },
    {
      "cell_type": "code",
      "metadata": {
        "id": "d2DRFpdPnqxx"
      },
      "source": [
        "## Create a Dataset\n",
        "n=30\n",
        "X,y,_,_ = create_corr_data(n,is_neg=False)"
      ],
      "execution_count": null,
      "outputs": []
    },
    {
      "cell_type": "code",
      "metadata": {
        "colab": {
          "base_uri": "https://localhost:8080/",
          "height": 338
        },
        "id": "vIJuX50Fseir",
        "outputId": "873f9fbe-8a04-4ca9-cf5e-faaa6d690b66"
      },
      "source": [
        "plt.figure(figsize=(5,5))\n",
        "plt.grid()\n",
        "plt.scatter(X,y)"
      ],
      "execution_count": null,
      "outputs": [
        {
          "output_type": "execute_result",
          "data": {
            "text/plain": [
              "<matplotlib.collections.PathCollection at 0x7f1d3e1536d0>"
            ]
          },
          "metadata": {},
          "execution_count": 34
        },
        {
          "output_type": "display_data",
          "data": {
            "image/png": "[encoded data removed]",
            "text/plain": [
              "<Figure size 360x360 with 1 Axes>"
            ]
          },
          "metadata": {
            "needs_background": "light"
          }
        }
      ]
    },
    {
      "cell_type": "code",
      "metadata": {
        "id": "AjODWrXFvZ8p"
      },
      "source": [
        "## Modelling optimization routine using first iteration\n",
        "## initialize optimization variables\n",
        "def init_linear_reg(X,y):\n",
        "  theta = 0 ##angle is 0\n",
        "  b = 0\n",
        "  h = theta*X + b\n",
        "  return theta,b, h\n",
        "theta, b, h = init_linear_reg(X,y)"
      ],
      "execution_count": null,
      "outputs": []
    },
    {
      "cell_type": "code",
      "metadata": {
        "colab": {
          "base_uri": "https://localhost:8080/"
        },
        "id": "IBfyeqwxvv2U",
        "outputId": "0b9236cc-2db1-46a5-f21d-df5237110c48"
      },
      "source": [
        "def SSR(h,y):\n",
        "  return np.sum(np.square(h-y))\n",
        "  J = SSR(h,y)\n",
        "J"
      ],
      "execution_count": null,
      "outputs": [
        {
          "output_type": "execute_result",
          "data": {
            "text/plain": [
              "7688.857114763188"
            ]
          },
          "metadata": {},
          "execution_count": 152
        }
      ]
    },
    {
      "cell_type": "code",
      "metadata": {
        "colab": {
          "base_uri": "https://localhost:8080/",
          "height": 351
        },
        "id": "nvobahcQwAvp",
        "outputId": "4261e0ee-6891-495b-c96d-5b39b2c145c2"
      },
      "source": [
        "def disp_hypothesis(X,y,h,loss,iter):\n",
        "  plt.figure(figsize=(5,5))\n",
        "  plt.title(f\"Least Squares \\n Iteration: {iter} | Loss @ {round(loss,3)}\")\n",
        "  plt.grid()\n",
        "  plt.scatter(X,y)\n",
        "  plt.plot(h, color='red', label='hypothesis')\n",
        "  plt.legend()\n",
        "  plt.show()\n",
        "disp_hypothesis(X,y,h,J,0)"
      ],
      "execution_count": null,
      "outputs": [
        {
          "output_type": "display_data",
          "data": {
            "image/png": "[encoded data removed]",
            "text/plain": [
              "<Figure size 360x360 with 1 Axes>"
            ]
          },
          "metadata": {
            "needs_background": "light"
          }
        }
      ]
    },
    {
      "cell_type": "code",
      "metadata": {
        "id": "8YCBalUQwHr6"
      },
      "source": [
        "## Design the optimization iterations\n",
        "### set the range and steps\n",
        "min, max = -100, 100\n",
        "steps = 1\n",
        "iters = np.arange(min,max+steps,steps)\n",
        "\n",
        "### do a sanity check for the loop\n",
        "# for iter in iters:\n",
        "#   print(iter)"
      ],
      "execution_count": null,
      "outputs": []
    },
    {
      "cell_type": "code",
      "metadata": {
        "id": "E_OPB4gTxkZb"
      },
      "source": [
        "## initialize the optimization routing\n",
        "print(\"[INFO] Initializing Linear Regression parameters...\")\n",
        "theta, b, h = init_linear_reg(X,y)\n",
        "print(\"[INFO] Initialization done!\")\n",
        "\n",
        "## create logs for optimization backtracking\n",
        "opts = {\n",
        "    'epoch': [],\n",
        "    'theta': [],\n",
        "    'model': [],\n",
        "    'loss': []\n",
        "}\n",
        "print(\"[INFO] Starting optimzation...\")\n",
        "for iter in iters:\n",
        "  ## set the angle as the normalized ratio of the iter to max\n",
        "  theta = iter/max\n",
        "  ## compute for the hypothesis\n",
        "  h = theta*X + b\n",
        "  ## compute for the loss\n",
        "  J = SSR(h,y)\n",
        "\n",
        "  ## log the changes\n",
        "  opts['epoch'].append(iter)\n",
        "  opts['theta'].append(theta)\n",
        "  opts['model'].append(h)\n",
        "  opts['loss'].append(J)\n",
        "  print(f\"[INFO] Epoch {iter} | Loss: {J}\")"
      ],
      "execution_count": null,
      "outputs": []
    },
    {
      "cell_type": "code",
      "metadata": {
        "colab": {
          "base_uri": "https://localhost:8080/",
          "height": 424
        },
        "id": "K_0_zTUW1C-c",
        "outputId": "a3a48b6d-2e10-44e4-a014-aab5b86b1d2e"
      },
      "source": [
        "opts_df = pd.DataFrame(opts)\n",
        "opts_df"
      ],
      "execution_count": null,
      "outputs": [
        {
          "output_type": "execute_result",
          "data": {
            "text/html": [
              "<div>\n",
              "<style scoped>\n",
              "    .dataframe tbody tr th:only-of-type {\n",
              "        vertical-align: middle;\n",
              "    }\n",
              "\n",
              "    .dataframe tbody tr th {\n",
              "        vertical-align: top;\n",
              "    }\n",
              "\n",
              "    .dataframe thead th {\n",
              "        text-align: right;\n",
              "    }\n",
              "</style>\n",
              "<table border=\"1\" class=\"dataframe\">\n",
              "  <thead>\n",
              "    <tr style=\"text-align: right;\">\n",
              "      <th></th>\n",
              "      <th>epoch</th>\n",
              "      <th>theta</th>\n",
              "      <th>model</th>\n",
              "      <th>loss</th>\n",
              "    </tr>\n",
              "  </thead>\n",
              "  <tbody>\n",
              "    <tr>\n",
              "      <th>0</th>\n",
              "      <td>-100</td>\n",
              "      <td>-1.00</td>\n",
              "      <td>[0.0, -1.0, -2.0, -3.0, -4.0, -5.0, -6.0, -7.0...</td>\n",
              "      <td>24251.186808</td>\n",
              "    </tr>\n",
              "    <tr>\n",
              "      <th>1</th>\n",
              "      <td>-99</td>\n",
              "      <td>-0.99</td>\n",
              "      <td>[0.0, -0.99, -1.98, -2.9699999999999998, -3.96...</td>\n",
              "      <td>23967.631537</td>\n",
              "    </tr>\n",
              "    <tr>\n",
              "      <th>2</th>\n",
              "      <td>-98</td>\n",
              "      <td>-0.98</td>\n",
              "      <td>[0.0, -0.98, -1.96, -2.94, -3.92, -4.9, -5.88,...</td>\n",
              "      <td>23685.787267</td>\n",
              "    </tr>\n",
              "    <tr>\n",
              "      <th>3</th>\n",
              "      <td>-97</td>\n",
              "      <td>-0.97</td>\n",
              "      <td>[0.0, -0.97, -1.94, -2.91, -3.88, -4.85, -5.82...</td>\n",
              "      <td>23405.653996</td>\n",
              "    </tr>\n",
              "    <tr>\n",
              "      <th>4</th>\n",
              "      <td>-96</td>\n",
              "      <td>-0.96</td>\n",
              "      <td>[0.0, -0.96, -1.92, -2.88, -3.84, -4.8, -5.76,...</td>\n",
              "      <td>23127.231725</td>\n",
              "    </tr>\n",
              "    <tr>\n",
              "      <th>...</th>\n",
              "      <td>...</td>\n",
              "      <td>...</td>\n",
              "      <td>...</td>\n",
              "      <td>...</td>\n",
              "    </tr>\n",
              "    <tr>\n",
              "      <th>196</th>\n",
              "      <td>96</td>\n",
              "      <td>0.96</td>\n",
              "      <td>[0.0, 0.96, 1.92, 2.88, 3.84, 4.8, 5.76, 6.72,...</td>\n",
              "      <td>1371.563770</td>\n",
              "    </tr>\n",
              "    <tr>\n",
              "      <th>197</th>\n",
              "      <td>97</td>\n",
              "      <td>0.97</td>\n",
              "      <td>[0.0, 0.97, 1.94, 2.91, 3.88, 4.85, 5.82, 6.79...</td>\n",
              "      <td>1423.364500</td>\n",
              "    </tr>\n",
              "    <tr>\n",
              "      <th>198</th>\n",
              "      <td>98</td>\n",
              "      <td>0.98</td>\n",
              "      <td>[0.0, 0.98, 1.96, 2.94, 3.92, 4.9, 5.88, 6.859...</td>\n",
              "      <td>1476.876229</td>\n",
              "    </tr>\n",
              "    <tr>\n",
              "      <th>199</th>\n",
              "      <td>99</td>\n",
              "      <td>0.99</td>\n",
              "      <td>[0.0, 0.99, 1.98, 2.9699999999999998, 3.96, 4....</td>\n",
              "      <td>1532.098959</td>\n",
              "    </tr>\n",
              "    <tr>\n",
              "      <th>200</th>\n",
              "      <td>100</td>\n",
              "      <td>1.00</td>\n",
              "      <td>[0.0, 1.0, 2.0, 3.0, 4.0, 5.0, 6.0, 7.0, 8.0, ...</td>\n",
              "      <td>1589.032688</td>\n",
              "    </tr>\n",
              "  </tbody>\n",
              "</table>\n",
              "<p>201 rows × 4 columns</p>\n",
              "</div>"
            ],
            "text/plain": [
              "     epoch  ...          loss\n",
              "0     -100  ...  24251.186808\n",
              "1      -99  ...  23967.631537\n",
              "2      -98  ...  23685.787267\n",
              "3      -97  ...  23405.653996\n",
              "4      -96  ...  23127.231725\n",
              "..     ...  ...           ...\n",
              "196     96  ...   1371.563770\n",
              "197     97  ...   1423.364500\n",
              "198     98  ...   1476.876229\n",
              "199     99  ...   1532.098959\n",
              "200    100  ...   1589.032688\n",
              "\n",
              "[201 rows x 4 columns]"
            ]
          },
          "metadata": {},
          "execution_count": 156
        }
      ]
    },
    {
      "cell_type": "code",
      "metadata": {
        "colab": {
          "base_uri": "https://localhost:8080/",
          "height": 285
        },
        "id": "oDTYnA361Wb7",
        "outputId": "692c14ec-301a-4580-9e07-292642efa3b9"
      },
      "source": [
        "plt.plot(opts['theta'], opts['loss'])"
      ],
      "execution_count": null,
      "outputs": [
        {
          "output_type": "execute_result",
          "data": {
            "text/plain": [
              "[<matplotlib.lines.Line2D at 0x7f1d3a9eaf10>]"
            ]
          },
          "metadata": {},
          "execution_count": 157
        },
        {
          "output_type": "display_data",
          "data": {
            "image/png": "[encoded data removed]",
            "text/plain": [
              "<Figure size 432x288 with 1 Axes>"
            ]
          },
          "metadata": {
            "needs_background": "light"
          }
        }
      ]
    },
    {
      "cell_type": "code",
      "metadata": {
        "id": "Q_GEanoC15pT"
      },
      "source": [
        "### gets the index of the least error\n",
        "opts_df['loss'].idxmin()\n",
        "### retrieve the theta of the least error\n",
        "opt_vals = opts_df.iloc[opts_df['loss'].idxmin()]"
      ],
      "execution_count": null,
      "outputs": []
    },
    {
      "cell_type": "code",
      "metadata": {
        "colab": {
          "base_uri": "https://localhost:8080/",
          "height": 351
        },
        "id": "av2qZQu83j6j",
        "outputId": "22b6485f-dfb6-41b4-e839-f57722c57847"
      },
      "source": [
        "## Plotting\n",
        "model = theta_opt*X +b\n",
        "disp_hypothesis(X,y,opt_vals['model'], opt_vals['loss'], opt_vals['epoch'])"
      ],
      "execution_count": null,
      "outputs": [
        {
          "output_type": "display_data",
          "data": {
            "image/png": "[encoded data removed]",
            "text/plain": [
              "<Figure size 360x360 with 1 Axes>"
            ]
          },
          "metadata": {
            "needs_background": "light"
          }
        }
      ]
    },
    {
      "cell_type": "code",
      "metadata": {
        "colab": {
          "base_uri": "https://localhost:8080/",
          "height": 351
        },
        "id": "fYxCeIOp8T1r",
        "outputId": "ff32d8fe-c4cb-4b88-acbe-fc871a81eef8"
      },
      "source": [
        "epoch = 10\n",
        "vals = opts_df.loc[opts_df['epoch']==epoch]\n",
        "disp_hypothesis(X,y,vals['model'].iloc[0],\n",
        "                float(vals['loss']), \n",
        "                float(vals['epoch']))"
      ],
      "execution_count": null,
      "outputs": [
        {
          "output_type": "display_data",
          "data": {
            "image/png": "[encoded data removed]",
            "text/plain": [
              "<Figure size 360x360 with 1 Axes>"
            ]
          },
          "metadata": {
            "needs_background": "light"
          }
        }
      ]
    }
  ]
}