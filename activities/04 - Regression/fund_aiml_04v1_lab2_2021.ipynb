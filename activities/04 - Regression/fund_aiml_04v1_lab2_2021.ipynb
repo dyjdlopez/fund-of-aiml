{
  "nbformat": 4,
  "nbformat_minor": 0,
  "metadata": {
    "colab": {
      "name": "fund_aiml_04v1_lab2_2021.ipynb",
      "provenance": [],
      "authorship_tag": "ABX9TyOu2ZJFBvIyyI4Yrh6MGSZp",
      "include_colab_link": true
    },
    "kernelspec": {
      "name": "python3",
      "display_name": "Python 3"
    },
    "language_info": {
      "name": "python"
    }
  },
  "cells": [
    {
      "cell_type": "markdown",
      "metadata": {
        "id": "view-in-github",
        "colab_type": "text"
      },
      "source": [
        "<a href=\"https://colab.research.google.com/github/dyjdlopez/fund-of-aiml/blob/main/activities/04%20-%20Regression/fund_aiml_04v1_lab2_2021.ipynb\" target=\"_parent\"><img src=\"https://colab.research.google.com/assets/colab-badge.svg\" alt=\"Open In Colab\"/></a>"
      ]
    },
    {
      "cell_type": "markdown",
      "metadata": {
        "id": "Q3Ki7Eix6HfL"
      },
      "source": [
        "# Topic 4 Lab 2: Multiple Linear Regression\n",
        "$_{\\text{©D.J. Lopez | 2021 | Fundamentals of Machine Learning}}$"
      ]
    },
    {
      "cell_type": "markdown",
      "metadata": {
        "id": "0cApvlgu6RXq"
      },
      "source": [
        "Create a class named `MultipleLinearRegression()` wherein it can compute for the linear regression for multiple variables. The class will be required to have the following helper methods:\n",
        "> 1. `correlations(X, y)`\n",
        ">> input: 2 Rank 2 matrices\n",
        ">>\n",
        ">> output: A vector that contains the covariances of each feature to the target. \n",
        "> 3. `train(X, y)`\n",
        ">> input: 2 Rank 2 matrices\n",
        ">>\n",
        ">> output: the weights of the linear regressor. Use least squares method for this part. If the training fails due to the singularity of the matrix, raise a custom error pertaining to autocorrelation.\n",
        "> 4. `predict(x)`\n",
        ">> input: A testing vector. *Note*: this function should only accept vectors.\n",
        ">>\n",
        ">> output: the predicted value. Note: the procedure in solving for the predicted value should be vectorized. Use the concept of matrix multiplication. Do not forget to pad the matrix for the bias term.\n",
        "> 5. `evaluate()`\n",
        ">> input: *none*\n",
        ">>\n",
        ">> output: a `DataFrame` that displays the SST, SSR, SST, MSE, RMSE, R-squared, and the Adjusted R-squared. Note: You should use the `predict()` method here.\n",
        "> 5. `visualize(testX, testY)`\n",
        ">> input: the dataset training sets and their ground truths.\n",
        ">>\n",
        ">> output: a visualization of the linear regressor over the testing dataset. It should be saved as a .jpg file into the running notebook with a dpi of 400."
      ]
    },
    {
      "cell_type": "code",
      "metadata": {
        "id": "0UUrD4zJ6EVj"
      },
      "source": [
        "import numpy as np\n",
        "import matplotlib.pyplot as plt\n",
        "import pandas as pd\n",
        "## No other packages or libraries can be added in this cell"
      ],
      "execution_count": 1,
      "outputs": []
    },
    {
      "cell_type": "code",
      "metadata": {
        "id": "6WzxCuxQ-xqb"
      },
      "source": [
        "### YOUR CODE HERE\n",
        "class MultipleLinearRegression():\n",
        "  \n",
        "  ### Program the required methods\n",
        "\n",
        "  ### You may add other helper functions in to make your code cleaner"
      ],
      "execution_count": null,
      "outputs": []
    },
    {
      "cell_type": "code",
      "metadata": {
        "id": "7RB4i8MI96Ys"
      },
      "source": [
        "### Testing Data\n",
        "### DO NOT DELETE NOR MODIFY THIS CELL\n",
        "### Data can be retrieved from the git repo\n",
        "X = pd.read_csv(\"/content/real_estate_price_size_year.csv\") \n",
        "y = X['price']\n",
        "X = X.drop('price', axis=1)\n",
        "X_train, X_test = X.iloc[0:95], X.iloc[95:]\n",
        "y_train, y_test = y.iloc[0:95], y.iloc[95:]"
      ],
      "execution_count": 22,
      "outputs": []
    },
    {
      "cell_type": "code",
      "metadata": {
        "id": "zGY61WiZ-Ze5"
      },
      "source": [
        "## TEST #1 (Max pts: 5)\n",
        "## DO NOT DELETE NOR MODIFY THIS CELL\n",
        "regressor = MultipleLinearRegression()"
      ],
      "execution_count": null,
      "outputs": []
    },
    {
      "cell_type": "code",
      "metadata": {
        "id": "IKuHQIceA2D0"
      },
      "source": [
        "## TEST #2 (Max pts: 10)\n",
        "## DO NOT DELETE NOR MODIFY THIS CELL\n",
        "R = regressor.correlations(X,y)\n",
        "R"
      ],
      "execution_count": null,
      "outputs": []
    },
    {
      "cell_type": "markdown",
      "metadata": {
        "id": "iKPsTkB3BQuj"
      },
      "source": [
        "Expected output value:\n",
        "$$R = \\begin{bmatrix}0.09 & 0.86\\end{bmatrix}$$"
      ]
    },
    {
      "cell_type": "code",
      "metadata": {
        "id": "FlWF-AQEBnwL"
      },
      "source": [
        "## TEST #3 (Max pts: 15)\n",
        "## DO NOT DELETE NOR MODIFY THIS CELL\n",
        "regressor.train(X,y)\n",
        "regressor.model_"
      ],
      "execution_count": null,
      "outputs": []
    },
    {
      "cell_type": "markdown",
      "metadata": {
        "id": "Jpl2Cz9SB6fz"
      },
      "source": [
        "Expected output value:\n",
        "$$\\omega = \\begin{bmatrix}\\omega_1 \\\\ \\omega_2 \\\\ \\omega_0\\end{bmatrix} = \\begin{bmatrix}227.70\\\\ 2916.78 \\\\ -5772267.02\\end{bmatrix}$$"
      ]
    },
    {
      "cell_type": "code",
      "metadata": {
        "id": "k9Q8e7JXC9U7"
      },
      "source": [
        "## TEST #4 (Max pts: 35)\n",
        "## DO NOT DELETE NOR MODIFY THIS CELL\n",
        "preds = regressor.predict(X_test)\n",
        "preds"
      ],
      "execution_count": null,
      "outputs": []
    },
    {
      "cell_type": "markdown",
      "metadata": {
        "id": "BdpaVDV3DBzr"
      },
      "source": [
        "Expected output value:\n",
        "$$\\hat{y}_i = \\begin{bmatrix} 210962.87 \\\\ 324367.17 \\\\ 424013.31 \\\\ 251928.01 \\\\ 238092.94 \\end{bmatrix}, i = \\{0,1,2,3,4\\}$$"
      ]
    },
    {
      "cell_type": "code",
      "metadata": {
        "id": "FUJuLe9pDArc"
      },
      "source": [
        "# TEST #5 (Max pts: 25)\n",
        "## DO NOT DELETE NOR MODIFY THIS CELL\n",
        "model_stats = regressor.evaluate()\n",
        "model_stats"
      ],
      "execution_count": null,
      "outputs": []
    },
    {
      "cell_type": "code",
      "metadata": {
        "id": "J7XW0jArDrQs"
      },
      "source": [
        "## TEST #6 (Max pts: 15)\n",
        "## DO NOT DELETE NOR MODIFY THIS CELL\n",
        "regressor.visualize(X_test, y_train)"
      ],
      "execution_count": null,
      "outputs": []
    }
  ]
}